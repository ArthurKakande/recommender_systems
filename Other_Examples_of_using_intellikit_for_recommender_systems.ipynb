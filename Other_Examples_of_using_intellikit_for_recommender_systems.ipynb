{
  "nbformat": 4,
  "nbformat_minor": 0,
  "metadata": {
    "colab": {
      "provenance": [],
      "authorship_tag": "ABX9TyMi7/3MeVRCEwwmEf/b09CQ",
      "include_colab_link": true
    },
    "kernelspec": {
      "name": "python3",
      "display_name": "Python 3"
    },
    "language_info": {
      "name": "python"
    }
  },
  "cells": [
    {
      "cell_type": "markdown",
      "metadata": {
        "id": "view-in-github",
        "colab_type": "text"
      },
      "source": [
        "<a href=\"https://colab.research.google.com/github/ArthurKakande/recommender_systems/blob/main/Other_Examples_of_using_intellikit_for_recommender_systems.ipynb\" target=\"_parent\"><img src=\"https://colab.research.google.com/assets/colab-badge.svg\" alt=\"Open In Colab\"/></a>"
      ]
    },
    {
      "cell_type": "code",
      "execution_count": 1,
      "metadata": {
        "colab": {
          "base_uri": "https://localhost:8080/"
        },
        "id": "gTt5VtJsAhP3",
        "outputId": "e9f518a4-1f71-48cd-9fd6-83c51319641a",
        "collapsed": true
      },
      "outputs": [
        {
          "output_type": "stream",
          "name": "stdout",
          "text": [
            "Collecting intellikit\n",
            "  Downloading intellikit-0.0.5-py2.py3-none-any.whl (10 kB)\n",
            "Requirement already satisfied: numpy in /usr/local/lib/python3.10/dist-packages (from intellikit) (1.25.2)\n",
            "Requirement already satisfied: pandas in /usr/local/lib/python3.10/dist-packages (from intellikit) (2.0.3)\n",
            "Requirement already satisfied: scikit-learn in /usr/local/lib/python3.10/dist-packages (from intellikit) (1.2.2)\n",
            "Collecting Levenshtein (from intellikit)\n",
            "  Downloading Levenshtein-0.25.1-cp310-cp310-manylinux_2_17_x86_64.manylinux2014_x86_64.whl (177 kB)\n",
            "\u001b[2K     \u001b[90m━━━━━━━━━━━━━━━━━━━━━━━━━━━━━━━━━━━━━━━━\u001b[0m \u001b[32m177.4/177.4 kB\u001b[0m \u001b[31m4.2 MB/s\u001b[0m eta \u001b[36m0:00:00\u001b[0m\n",
            "\u001b[?25hCollecting sentence-transformers (from intellikit)\n",
            "  Downloading sentence_transformers-3.0.1-py3-none-any.whl (227 kB)\n",
            "\u001b[2K     \u001b[90m━━━━━━━━━━━━━━━━━━━━━━━━━━━━━━━━━━━━━━━━\u001b[0m \u001b[32m227.1/227.1 kB\u001b[0m \u001b[31m15.6 MB/s\u001b[0m eta \u001b[36m0:00:00\u001b[0m\n",
            "\u001b[?25hRequirement already satisfied: nltk in /usr/local/lib/python3.10/dist-packages (from intellikit) (3.8.1)\n",
            "Collecting rapidfuzz<4.0.0,>=3.8.0 (from Levenshtein->intellikit)\n",
            "  Downloading rapidfuzz-3.9.4-cp310-cp310-manylinux_2_17_x86_64.manylinux2014_x86_64.whl (3.4 MB)\n",
            "\u001b[2K     \u001b[90m━━━━━━━━━━━━━━━━━━━━━━━━━━━━━━━━━━━━━━━━\u001b[0m \u001b[32m3.4/3.4 MB\u001b[0m \u001b[31m46.2 MB/s\u001b[0m eta \u001b[36m0:00:00\u001b[0m\n",
            "\u001b[?25hRequirement already satisfied: click in /usr/local/lib/python3.10/dist-packages (from nltk->intellikit) (8.1.7)\n",
            "Requirement already satisfied: joblib in /usr/local/lib/python3.10/dist-packages (from nltk->intellikit) (1.4.2)\n",
            "Requirement already satisfied: regex>=2021.8.3 in /usr/local/lib/python3.10/dist-packages (from nltk->intellikit) (2024.5.15)\n",
            "Requirement already satisfied: tqdm in /usr/local/lib/python3.10/dist-packages (from nltk->intellikit) (4.66.4)\n",
            "Requirement already satisfied: python-dateutil>=2.8.2 in /usr/local/lib/python3.10/dist-packages (from pandas->intellikit) (2.8.2)\n",
            "Requirement already satisfied: pytz>=2020.1 in /usr/local/lib/python3.10/dist-packages (from pandas->intellikit) (2023.4)\n",
            "Requirement already satisfied: tzdata>=2022.1 in /usr/local/lib/python3.10/dist-packages (from pandas->intellikit) (2024.1)\n",
            "Requirement already satisfied: scipy>=1.3.2 in /usr/local/lib/python3.10/dist-packages (from scikit-learn->intellikit) (1.11.4)\n",
            "Requirement already satisfied: threadpoolctl>=2.0.0 in /usr/local/lib/python3.10/dist-packages (from scikit-learn->intellikit) (3.5.0)\n",
            "Requirement already satisfied: transformers<5.0.0,>=4.34.0 in /usr/local/lib/python3.10/dist-packages (from sentence-transformers->intellikit) (4.41.2)\n",
            "Requirement already satisfied: torch>=1.11.0 in /usr/local/lib/python3.10/dist-packages (from sentence-transformers->intellikit) (2.3.0+cu121)\n",
            "Requirement already satisfied: huggingface-hub>=0.15.1 in /usr/local/lib/python3.10/dist-packages (from sentence-transformers->intellikit) (0.23.4)\n",
            "Requirement already satisfied: Pillow in /usr/local/lib/python3.10/dist-packages (from sentence-transformers->intellikit) (9.4.0)\n",
            "Requirement already satisfied: filelock in /usr/local/lib/python3.10/dist-packages (from huggingface-hub>=0.15.1->sentence-transformers->intellikit) (3.15.4)\n",
            "Requirement already satisfied: fsspec>=2023.5.0 in /usr/local/lib/python3.10/dist-packages (from huggingface-hub>=0.15.1->sentence-transformers->intellikit) (2023.6.0)\n",
            "Requirement already satisfied: packaging>=20.9 in /usr/local/lib/python3.10/dist-packages (from huggingface-hub>=0.15.1->sentence-transformers->intellikit) (24.1)\n",
            "Requirement already satisfied: pyyaml>=5.1 in /usr/local/lib/python3.10/dist-packages (from huggingface-hub>=0.15.1->sentence-transformers->intellikit) (6.0.1)\n",
            "Requirement already satisfied: requests in /usr/local/lib/python3.10/dist-packages (from huggingface-hub>=0.15.1->sentence-transformers->intellikit) (2.31.0)\n",
            "Requirement already satisfied: typing-extensions>=3.7.4.3 in /usr/local/lib/python3.10/dist-packages (from huggingface-hub>=0.15.1->sentence-transformers->intellikit) (4.12.2)\n",
            "Requirement already satisfied: six>=1.5 in /usr/local/lib/python3.10/dist-packages (from python-dateutil>=2.8.2->pandas->intellikit) (1.16.0)\n",
            "Requirement already satisfied: sympy in /usr/local/lib/python3.10/dist-packages (from torch>=1.11.0->sentence-transformers->intellikit) (1.13.0)\n",
            "Requirement already satisfied: networkx in /usr/local/lib/python3.10/dist-packages (from torch>=1.11.0->sentence-transformers->intellikit) (3.3)\n",
            "Requirement already satisfied: jinja2 in /usr/local/lib/python3.10/dist-packages (from torch>=1.11.0->sentence-transformers->intellikit) (3.1.4)\n",
            "Collecting nvidia-cuda-nvrtc-cu12==12.1.105 (from torch>=1.11.0->sentence-transformers->intellikit)\n",
            "  Using cached nvidia_cuda_nvrtc_cu12-12.1.105-py3-none-manylinux1_x86_64.whl (23.7 MB)\n",
            "Collecting nvidia-cuda-runtime-cu12==12.1.105 (from torch>=1.11.0->sentence-transformers->intellikit)\n",
            "  Using cached nvidia_cuda_runtime_cu12-12.1.105-py3-none-manylinux1_x86_64.whl (823 kB)\n",
            "Collecting nvidia-cuda-cupti-cu12==12.1.105 (from torch>=1.11.0->sentence-transformers->intellikit)\n",
            "  Using cached nvidia_cuda_cupti_cu12-12.1.105-py3-none-manylinux1_x86_64.whl (14.1 MB)\n",
            "Collecting nvidia-cudnn-cu12==8.9.2.26 (from torch>=1.11.0->sentence-transformers->intellikit)\n",
            "  Using cached nvidia_cudnn_cu12-8.9.2.26-py3-none-manylinux1_x86_64.whl (731.7 MB)\n",
            "Collecting nvidia-cublas-cu12==12.1.3.1 (from torch>=1.11.0->sentence-transformers->intellikit)\n",
            "  Using cached nvidia_cublas_cu12-12.1.3.1-py3-none-manylinux1_x86_64.whl (410.6 MB)\n",
            "Collecting nvidia-cufft-cu12==11.0.2.54 (from torch>=1.11.0->sentence-transformers->intellikit)\n",
            "  Using cached nvidia_cufft_cu12-11.0.2.54-py3-none-manylinux1_x86_64.whl (121.6 MB)\n",
            "Collecting nvidia-curand-cu12==10.3.2.106 (from torch>=1.11.0->sentence-transformers->intellikit)\n",
            "  Using cached nvidia_curand_cu12-10.3.2.106-py3-none-manylinux1_x86_64.whl (56.5 MB)\n",
            "Collecting nvidia-cusolver-cu12==11.4.5.107 (from torch>=1.11.0->sentence-transformers->intellikit)\n",
            "  Using cached nvidia_cusolver_cu12-11.4.5.107-py3-none-manylinux1_x86_64.whl (124.2 MB)\n",
            "Collecting nvidia-cusparse-cu12==12.1.0.106 (from torch>=1.11.0->sentence-transformers->intellikit)\n",
            "  Using cached nvidia_cusparse_cu12-12.1.0.106-py3-none-manylinux1_x86_64.whl (196.0 MB)\n",
            "Collecting nvidia-nccl-cu12==2.20.5 (from torch>=1.11.0->sentence-transformers->intellikit)\n",
            "  Using cached nvidia_nccl_cu12-2.20.5-py3-none-manylinux2014_x86_64.whl (176.2 MB)\n",
            "Collecting nvidia-nvtx-cu12==12.1.105 (from torch>=1.11.0->sentence-transformers->intellikit)\n",
            "  Using cached nvidia_nvtx_cu12-12.1.105-py3-none-manylinux1_x86_64.whl (99 kB)\n",
            "Requirement already satisfied: triton==2.3.0 in /usr/local/lib/python3.10/dist-packages (from torch>=1.11.0->sentence-transformers->intellikit) (2.3.0)\n",
            "Collecting nvidia-nvjitlink-cu12 (from nvidia-cusolver-cu12==11.4.5.107->torch>=1.11.0->sentence-transformers->intellikit)\n",
            "  Downloading nvidia_nvjitlink_cu12-12.5.82-py3-none-manylinux2014_x86_64.whl (21.3 MB)\n",
            "\u001b[2K     \u001b[90m━━━━━━━━━━━━━━━━━━━━━━━━━━━━━━━━━━━━━━━━\u001b[0m \u001b[32m21.3/21.3 MB\u001b[0m \u001b[31m62.8 MB/s\u001b[0m eta \u001b[36m0:00:00\u001b[0m\n",
            "\u001b[?25hRequirement already satisfied: tokenizers<0.20,>=0.19 in /usr/local/lib/python3.10/dist-packages (from transformers<5.0.0,>=4.34.0->sentence-transformers->intellikit) (0.19.1)\n",
            "Requirement already satisfied: safetensors>=0.4.1 in /usr/local/lib/python3.10/dist-packages (from transformers<5.0.0,>=4.34.0->sentence-transformers->intellikit) (0.4.3)\n",
            "Requirement already satisfied: MarkupSafe>=2.0 in /usr/local/lib/python3.10/dist-packages (from jinja2->torch>=1.11.0->sentence-transformers->intellikit) (2.1.5)\n",
            "Requirement already satisfied: charset-normalizer<4,>=2 in /usr/local/lib/python3.10/dist-packages (from requests->huggingface-hub>=0.15.1->sentence-transformers->intellikit) (3.3.2)\n",
            "Requirement already satisfied: idna<4,>=2.5 in /usr/local/lib/python3.10/dist-packages (from requests->huggingface-hub>=0.15.1->sentence-transformers->intellikit) (3.7)\n",
            "Requirement already satisfied: urllib3<3,>=1.21.1 in /usr/local/lib/python3.10/dist-packages (from requests->huggingface-hub>=0.15.1->sentence-transformers->intellikit) (2.0.7)\n",
            "Requirement already satisfied: certifi>=2017.4.17 in /usr/local/lib/python3.10/dist-packages (from requests->huggingface-hub>=0.15.1->sentence-transformers->intellikit) (2024.7.4)\n",
            "Requirement already satisfied: mpmath<1.4,>=1.1.0 in /usr/local/lib/python3.10/dist-packages (from sympy->torch>=1.11.0->sentence-transformers->intellikit) (1.3.0)\n",
            "Installing collected packages: rapidfuzz, nvidia-nvtx-cu12, nvidia-nvjitlink-cu12, nvidia-nccl-cu12, nvidia-curand-cu12, nvidia-cufft-cu12, nvidia-cuda-runtime-cu12, nvidia-cuda-nvrtc-cu12, nvidia-cuda-cupti-cu12, nvidia-cublas-cu12, nvidia-cusparse-cu12, nvidia-cudnn-cu12, Levenshtein, nvidia-cusolver-cu12, sentence-transformers, intellikit\n",
            "Successfully installed Levenshtein-0.25.1 intellikit-0.0.5 nvidia-cublas-cu12-12.1.3.1 nvidia-cuda-cupti-cu12-12.1.105 nvidia-cuda-nvrtc-cu12-12.1.105 nvidia-cuda-runtime-cu12-12.1.105 nvidia-cudnn-cu12-8.9.2.26 nvidia-cufft-cu12-11.0.2.54 nvidia-curand-cu12-10.3.2.106 nvidia-cusolver-cu12-11.4.5.107 nvidia-cusparse-cu12-12.1.0.106 nvidia-nccl-cu12-2.20.5 nvidia-nvjitlink-cu12-12.5.82 nvidia-nvtx-cu12-12.1.105 rapidfuzz-3.9.4 sentence-transformers-3.0.1\n"
          ]
        }
      ],
      "source": [
        "!pip install intellikit"
      ]
    },
    {
      "cell_type": "code",
      "source": [
        "# prompt: generate code that inport a csv file. the file is a movies dataset. i would like to select a columns to focus on and have the content in these columns merged as one column called the document. then i would like to use the series_title column as the id column. then these should be used to select the top 5 recommednations based on a users query. assume the python package to use is intellikit\n",
        "\n",
        "import intellikit as ik\n",
        "import pandas as pd\n",
        "\n",
        "# Load the movies dataset\n",
        "movies = pd.read_csv(\"/content/imdb_top_1000.csv\")\n",
        "\n",
        "# Select the columns to focus on and merge them into a single column\n",
        "movies[\"document\"] = movies[[\"Series_Title\", \"Genre\", \"Overview\", \"Director\", \"Released_Year\", \"Star1\", \"Star2\", \"Star3\", \"Star4\"]].apply(lambda x: \" \".join(x), axis=1)\n",
        "\n",
        "# Set the series_title column as the id column\n",
        "movies = movies.set_index(\"Series_Title\")\n",
        "\n",
        "# Get the user's query\n",
        "query = (\"2012, Drama, A movie about conspiracy, C.I.A, spy\")\n",
        "\n",
        "# Get the top 5 recommendations\n",
        "recommendations = ik.vector_space_model(query, movies[\"document\"], k=5)\n",
        "\n",
        "# Print the recommendations\n",
        "print(\"Top 5 Recommendations:\")\n",
        "for doc, similarity in recommendations:\n",
        "    print(f\"Similarity: {similarity:.4f} - Movie: {doc}\")\n"
      ],
      "metadata": {
        "colab": {
          "base_uri": "https://localhost:8080/"
        },
        "id": "qyXY9lOtTiUg",
        "outputId": "cffb43da-d1c7-44c3-9e22-47b05c48f501"
      },
      "execution_count": 4,
      "outputs": [
        {
          "output_type": "stream",
          "name": "stdout",
          "text": [
            "Top 5 Recommendations:\n",
            "Similarity: 0.2530 - Movie: A Wednesday Action, Crime, Drama A retiring police officer reminisces about the most astounding day of his career. About a case that was never filed but continues to haunt him in his memories - the case of a man and a Wednesday. Neeraj Pandey 2008 Anupam Kher Naseeruddin Shah Jimmy Sheirgill Aamir Bashir\n",
            "Similarity: 0.2461 - Movie: Sunset Blvd. Drama, Film-Noir A screenwriter develops a dangerous relationship with a faded film star determined to make a triumphant return. Billy Wilder 1950 William Holden Gloria Swanson Erich von Stroheim Nancy Olson\n",
            "Similarity: 0.2432 - Movie: 21 Grams Crime, Drama, Thriller A freak accident brings together a critically ill mathematician, a grieving mother, and a born-again ex-con. Alejandro G. Iñárritu 2003 Sean Penn Benicio Del Toro Naomi Watts Danny Huston\n",
            "Similarity: 0.2404 - Movie: Donnie Darko Drama, Mystery, Sci-Fi After narrowly escaping a bizarre accident, a troubled teenager is plagued by visions of a man in a large rabbit suit who manipulates him to commit a series of crimes. Richard Kelly 2001 Jake Gyllenhaal Jena Malone Mary McDonnell Holmes Osborne\n",
            "Similarity: 0.2377 - Movie: Blood Diamond Adventure, Drama, Thriller A fisherman, a smuggler, and a syndicate of businessmen match wits over the possession of a priceless diamond. Edward Zwick 2006 Leonardo DiCaprio Djimon Hounsou Jennifer Connelly Kagiso Kuypers\n"
          ]
        }
      ]
    },
    {
      "cell_type": "code",
      "source": [
        "# Recommend movies by Leonardo Dicaprio\n",
        "query = \"2010, Drama, Martin Scorsese, Leonardo Dicaprio\"\n",
        "\n",
        "top_similar_docs_vsm = ik.vector_space_model(query, movies[\"document\"], k=5)\n",
        "\n",
        "#To print the retrieved documents\n",
        "print(\"Top 5 similar movies with Leo directed by Martin:\")\n",
        "for doc, score in top_similar_docs_vsm:\n",
        "    print(f\"Score: {score:.4f} - Document: {doc}\")"
      ],
      "metadata": {
        "colab": {
          "base_uri": "https://localhost:8080/"
        },
        "id": "fMEORzMXQyBc",
        "outputId": "44c81e95-5b3a-4f3f-f289-13f49cf4ff32"
      },
      "execution_count": 6,
      "outputs": [
        {
          "output_type": "stream",
          "name": "stdout",
          "text": [
            "Top 5 similar movies with Leo directed by Martin:\n",
            "Score: 0.2234 - Document: The Departed Crime, Drama, Thriller An undercover cop and a mole in the police attempt to identify each other while infiltrating an Irish gang in South Boston. Martin Scorsese 2006 Leonardo DiCaprio Matt Damon Jack Nicholson Mark Wahlberg\n",
            "Score: 0.1906 - Document: Titanic Drama, Romance A seventeen-year-old aristocrat falls in love with a kind but poor artist aboard the luxurious, ill-fated R.M.S. Titanic. James Cameron 1997 Leonardo DiCaprio Kate Winslet Billy Zane Kathy Bates\n",
            "Score: 0.1692 - Document: Shutter Island Mystery, Thriller In 1954, a U.S. Marshal investigates the disappearance of a murderer who escaped from a hospital for the criminally insane. Martin Scorsese 2010 Leonardo DiCaprio Emily Mortimer Mark Ruffalo Ben Kingsley\n",
            "Score: 0.1672 - Document: Django Unchained Drama, Western With the help of a German bounty hunter, a freed slave sets out to rescue his wife from a brutal Mississippi plantation owner. Quentin Tarantino 2012 Jamie Foxx Christoph Waltz Leonardo DiCaprio Kerry Washington\n",
            "Score: 0.1600 - Document: Blood Diamond Adventure, Drama, Thriller A fisherman, a smuggler, and a syndicate of businessmen match wits over the possession of a priceless diamond. Edward Zwick 2006 Leonardo DiCaprio Djimon Hounsou Jennifer Connelly Kagiso Kuypers\n"
          ]
        }
      ]
    },
    {
      "cell_type": "code",
      "source": [
        "# Movies woth Tom, none of the movies in the dataset had Tom Holland\n",
        "query = \"2015, Drama, Tom Holland\"\n",
        "\n",
        "top_similar_docs_vsm = ik.vector_space_model(query, movies[\"document\"], k=5)\n",
        "\n",
        "#To print the retrieved documents\n",
        "print(\"Top 5 movies with Tom Holland:\")\n",
        "for doc, score in top_similar_docs_vsm:\n",
        "    print(f\"Score: {score:.4f} - Document: {doc}\")"
      ],
      "metadata": {
        "colab": {
          "base_uri": "https://localhost:8080/"
        },
        "id": "_IknnsGEUZLa",
        "outputId": "81b079a4-b64f-4ffb-d638-dbb2ab37d3f8"
      },
      "execution_count": 7,
      "outputs": [
        {
          "output_type": "stream",
          "name": "stdout",
          "text": [
            "Top 5 movies with Tom Holland:\n",
            "Score: 0.2057 - Document: Saving Private Ryan Drama, War Following the Normandy Landings, a group of U.S. soldiers go behind enemy lines to retrieve a paratrooper whose brothers have been killed in action. Steven Spielberg 1998 Tom Hanks Matt Damon Tom Sizemore Edward Burns\n",
            "Score: 0.1575 - Document: Lola rennt Crime, Drama, Thriller After a botched money delivery, Lola has 20 minutes to come up with 100,000 Deutschmarks. Tom Tykwer 1998 Franka Potente Moritz Bleibtreu Herbert Knaup Nina Petri\n",
            "Score: 0.1552 - Document: Peeping Tom Drama, Horror, Thriller A young man murders women, using a movie camera to film their dying expressions of terror. Michael Powell 1960 Karlheinz Böhm Anna Massey Moira Shearer Maxine Audley\n",
            "Score: 0.1507 - Document: A Few Good Men Drama, Thriller Military lawyer Lieutenant Daniel Kaffee defends Marines accused of murder. They contend they were acting under orders. Rob Reiner 1992 Tom Cruise Jack Nicholson Demi Moore Kevin Bacon\n",
            "Score: 0.1467 - Document: Cast Away Adventure, Drama, Romance A FedEx executive undergoes a physical and emotional transformation after crash landing on a deserted island. Robert Zemeckis 2000 Tom Hanks Helen Hunt Paul Sanchez Lari White\n"
          ]
        }
      ]
    },
    {
      "cell_type": "code",
      "source": [
        "# Recommend, movies with Leonardo DiCaprio\n",
        "query = \"2010, Drama, Leonardo DiCaprio\"\n",
        "\n",
        "top_similar_docs_vsm = ik.vector_space_model(query, movies[\"document\"], k=5)\n",
        "\n",
        "#To print the retrieved documents\n",
        "print(\"Top 5 Movies with Leonardo, no Martin is specified in this case:\")\n",
        "for doc, score in top_similar_docs_vsm:\n",
        "    print(f\"Score: {score:.4f} - Document: {doc}\")"
      ],
      "metadata": {
        "colab": {
          "base_uri": "https://localhost:8080/"
        },
        "id": "DS6lQmNUUzG6",
        "outputId": "8b49a48f-e725-4d7f-c092-95de0330a49e"
      },
      "execution_count": 8,
      "outputs": [
        {
          "output_type": "stream",
          "name": "stdout",
          "text": [
            "Top 5 Movies with Leonardo, no Martin is specified in this case:\n",
            "Score: 0.2334 - Document: Titanic Drama, Romance A seventeen-year-old aristocrat falls in love with a kind but poor artist aboard the luxurious, ill-fated R.M.S. Titanic. James Cameron 1997 Leonardo DiCaprio Kate Winslet Billy Zane Kathy Bates\n",
            "Score: 0.2048 - Document: The Departed Crime, Drama, Thriller An undercover cop and a mole in the police attempt to identify each other while infiltrating an Irish gang in South Boston. Martin Scorsese 2006 Leonardo DiCaprio Matt Damon Jack Nicholson Mark Wahlberg\n",
            "Score: 0.2048 - Document: Django Unchained Drama, Western With the help of a German bounty hunter, a freed slave sets out to rescue his wife from a brutal Mississippi plantation owner. Quentin Tarantino 2012 Jamie Foxx Christoph Waltz Leonardo DiCaprio Kerry Washington\n",
            "Score: 0.1960 - Document: Blood Diamond Adventure, Drama, Thriller A fisherman, a smuggler, and a syndicate of businessmen match wits over the possession of a priceless diamond. Edward Zwick 2006 Leonardo DiCaprio Djimon Hounsou Jennifer Connelly Kagiso Kuypers\n",
            "Score: 0.1378 - Document: Shutter Island Mystery, Thriller In 1954, a U.S. Marshal investigates the disappearance of a murderer who escaped from a hospital for the criminally insane. Martin Scorsese 2010 Leonardo DiCaprio Emily Mortimer Mark Ruffalo Ben Kingsley\n"
          ]
        }
      ]
    },
    {
      "cell_type": "code",
      "source": [
        "# Recommending a move based on a description\n",
        "query = \"2010, Drama, A boy gets lost and is adopted by an australian couple\"\n",
        "\n",
        "top_similar_docs_vsm = ik.vector_space_model(query, movies[\"document\"], k=5)\n",
        "\n",
        "#To print the retrieved documents\n",
        "print(\"Top 5 similar Movies based off a description of a boy who gets lost\")\n",
        "for doc, score in top_similar_docs_vsm:\n",
        "    print(f\"Score: {score:.4f} - Document: {doc}\")"
      ],
      "metadata": {
        "colab": {
          "base_uri": "https://localhost:8080/"
        },
        "id": "wurN-savZr4f",
        "outputId": "984aa81c-72b2-4b73-9a81-2099878d68e9"
      },
      "execution_count": 9,
      "outputs": [
        {
          "output_type": "stream",
          "name": "stdout",
          "text": [
            "Top 5 similar Movies based off a description of a boy who gets lost\n",
            "Score: 0.3818 - Document: Lion Biography, Drama A five-year-old Indian boy is adopted by an Australian couple after getting lost hundreds of kilometers from home. 25 years later, he sets out to find his lost family. Garth Davis 2016 Dev Patel Nicole Kidman Rooney Mara Sunny Pawar\n",
            "Score: 0.3264 - Document: As Good as It Gets Comedy, Drama, Romance A single mother and waitress, a misanthropic author, and a gay artist form an unlikely friendship after the artist is assaulted in a robbery. James L. Brooks 1997 Jack Nicholson Helen Hunt Greg Kinnear Cuba Gooding Jr.\n",
            "Score: 0.3263 - Document: Veer-Zaara Drama, Family, Musical Veer-Zaara is a saga of love, separation, courage and sacrifice. A love story that is an inspiration and will remain a legend forever. Yash Chopra 2004 Shah Rukh Khan Preity Zinta Rani Mukerji Kirron Kher\n",
            "Score: 0.3027 - Document: Primal Fear Crime, Drama, Mystery An altar boy is accused of murdering a priest, and the truth is buried several layers deep. Gregory Hoblit 1996 Richard Gere Laura Linney Edward Norton John Mahoney\n",
            "Score: 0.2907 - Document: Misery Drama, Thriller After a famous author is rescued from a car crash by a fan of his novels, he comes to realize that the care he is receiving is only the beginning of a nightmare of captivity and abuse. Rob Reiner 1990 James Caan Kathy Bates Richard Farnsworth Frances Sternhagen\n"
          ]
        }
      ]
    }
  ]
}